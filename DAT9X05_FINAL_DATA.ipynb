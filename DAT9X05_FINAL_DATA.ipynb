{
  "cells": [
    {
      "cell_type": "code",
      "execution_count": 2,
      "metadata": {
        "colab": {
          "base_uri": "https://localhost:8080/"
        },
        "id": "90kqk5ks6e6u",
        "outputId": "0c3d7cce-bd66-4a90-96b6-3a1455615672"
      },
      "outputs": [
        {
          "name": "stdout",
          "output_type": "stream",
          "text": [
            "Mounted at /content/gdrive\n"
          ]
        }
      ],
      "source": [
        "from google.colab import drive\n",
        "drive.mount(\"/content/gdrive\")"
      ]
    },
    {
      "cell_type": "code",
      "execution_count": 3,
      "metadata": {
        "colab": {
          "base_uri": "https://localhost:8080/"
        },
        "id": "SOiFORSr82QO",
        "outputId": "f2b2aada-c42e-4154-c439-638c2ebcb360"
      },
      "outputs": [
        {
          "name": "stdout",
          "output_type": "stream",
          "text": [
            "/content/gdrive/MyDrive/MLP\n"
          ]
        }
      ],
      "source": [
        "%cd /content/gdrive/MyDrive/MLP"
      ]
    },
    {
      "cell_type": "code",
      "execution_count": null,
      "metadata": {
        "colab": {
          "base_uri": "https://localhost:8080/"
        },
        "id": "5aKU-LL4sUjv",
        "outputId": "d85a985d-8981-41ad-9a6e-ca1c2dfafdec"
      },
      "outputs": [
        {
          "name": "stdout",
          "output_type": "stream",
          "text": [
            "Dataset generated with missing values + noise/outliers saved as 'school_dropout_sa_with_noise.csv'\n",
            "                age  gender       province urban_rural  household_income  \\\n",
            "count   2000.000000    2000           2000        2000       1861.000000   \n",
            "unique          NaN       2              9           2               NaN   \n",
            "top             NaN  Female  Northern Cape       Urban               NaN   \n",
            "freq            NaN    1023            238        1227               NaN   \n",
            "mean      15.414500     NaN            NaN         NaN      18924.217157   \n",
            "std        2.563782     NaN            NaN         NaN     104920.226000   \n",
            "min        5.000000     NaN            NaN         NaN      -5000.000000   \n",
            "25%       13.000000     NaN            NaN         NaN       5066.930000   \n",
            "50%       15.000000     NaN            NaN         NaN       7838.990000   \n",
            "75%       17.000000     NaN            NaN         NaN      10568.100000   \n",
            "max       30.000000     NaN            NaN         NaN    1000000.000000   \n",
            "\n",
            "       parent_education attendance  highest_grade      dropout  \n",
            "count              1860       1861     2000.00000  2000.000000  \n",
            "unique                4          2            NaN          NaN  \n",
            "top           Secondary        Yes            NaN          NaN  \n",
            "freq                765       1565            NaN          NaN  \n",
            "mean                NaN        NaN        5.75450     0.133500  \n",
            "std                 NaN        NaN        3.11594     0.340199  \n",
            "min                 NaN        NaN        1.00000     0.000000  \n",
            "25%                 NaN        NaN        3.00000     0.000000  \n",
            "50%                 NaN        NaN        6.00000     0.000000  \n",
            "75%                 NaN        NaN        8.00000     0.000000  \n",
            "max                 NaN        NaN       11.00000     1.000000  \n",
            "\n",
            "Missing values per column:\n",
            "age                   0\n",
            "gender                0\n",
            "province              0\n",
            "urban_rural           0\n",
            "household_income    139\n",
            "parent_education    140\n",
            "attendance          139\n",
            "highest_grade         0\n",
            "dropout               0\n",
            "dtype: int64\n"
          ]
        }
      ],
      "source": [
        "import pandas as pd\n",
        "import numpy as np\n",
        "\n",
        "# Set random seed for reproducibility\n",
        "np.random.seed(42)\n",
        "\n",
        "# Number of learners\n",
        "n = 2000\n",
        "\n",
        "# Generate synthetic data\n",
        "age = np.random.randint(12, 20, n)  # ages 12 to 19\n",
        "gender = np.random.choice([\"Male\", \"Female\"], n)\n",
        "province = np.random.choice(\n",
        "    [\n",
        "        \"Gauteng\",\n",
        "        \"KwaZulu-Natal\",\n",
        "        \"Western Cape\",\n",
        "        \"Eastern Cape\",\n",
        "        \"Limpopo\",\n",
        "        \"Mpumalanga\",\n",
        "        \"North West\",\n",
        "        \"Northern Cape\",\n",
        "        \"Free State\",\n",
        "    ],\n",
        "    n,\n",
        ")\n",
        "urban_rural = np.random.choice([\"Urban\", \"Rural\"], n, p=[0.6, 0.4])\n",
        "household_income = np.random.normal(8000, 4000, n).clip(0)  # rand income\n",
        "parent_education = np.random.choice(\n",
        "    [\"None\", \"Primary\", \"Secondary\", \"Tertiary\"], n, p=[0.1, 0.3, 0.4, 0.2]\n",
        ")\n",
        "attendance = np.random.choice([\"Yes\", \"No\"], n, p=[0.85, 0.15])\n",
        "highest_grade = np.where(\n",
        "    attendance == \"Yes\", np.random.randint(1, 12, n), np.random.randint(1, 10, n)\n",
        ")\n",
        "\n",
        "# Define dropout label: dropout = not attending school but age < 18\n",
        "dropout = np.where((attendance == \"No\") & (age < 18), 1, 0)\n",
        "\n",
        "# Build DataFrame\n",
        "df = pd.DataFrame(\n",
        "    {\n",
        "        \"age\": age,\n",
        "        \"gender\": gender,\n",
        "        \"province\": province,\n",
        "        \"urban_rural\": urban_rural,\n",
        "        \"household_income\": household_income.round(2),\n",
        "        \"parent_education\": parent_education,\n",
        "        \"attendance\": attendance,\n",
        "        \"highest_grade\": highest_grade,\n",
        "        \"dropout\": dropout,\n",
        "    }\n",
        ")\n",
        "\n",
        "# Introduce missing values (about 7%)\n",
        "for col in [\"household_income\", \"parent_education\", \"attendance\"]:\n",
        "    df.loc[df.sample(frac=0.07, random_state=42).index, col] = np.nan\n",
        "\n",
        "# Add noise / outliers\n",
        "# 1. Extreme household incomes (too high or negative)\n",
        "outlier_idx = np.random.choice(\n",
        "    df.index, size=int(0.02 * n), replace=False\n",
        ")  # 2% outliers\n",
        "df.loc[outlier_idx, \"household_income\"] = np.random.choice(\n",
        "    [1e6, -5000], size=len(outlier_idx)\n",
        ")\n",
        "\n",
        "# 2. Unrealistic ages (too young or too old for school)\n",
        "age_outliers = np.random.choice(\n",
        "    df.index, size=int(0.01 * n), replace=False\n",
        ")  # 1% outliers\n",
        "df.loc[age_outliers, \"age\"] = np.random.choice([5, 30], size=len(age_outliers))\n",
        "\n",
        "# 3. Attendance inconsistencies (e.g., dropout=1 but marked as 'Yes')\n",
        "attend_outliers = np.random.choice(df.index, size=int(0.01 * n), replace=False)\n",
        "df.loc[attend_outliers, \"attendance\"] = \"Yes\"\n",
        "df.loc[attend_outliers, \"dropout\"] = 1  # force inconsistency\n",
        "\n",
        "# Save CSV\n",
        "df.to_csv(\"school_dropout_sa_with_noise.csv\", index=False)\n",
        "\n",
        "print(\n",
        "    \"Dataset generated with missing values + noise/outliers saved as 'school_dropout_sa_with_noise.csv'\"\n",
        ")\n",
        "print(df.describe(include=\"all\"))\n",
        "print(\"\\nMissing values per column:\")\n",
        "print(df.isnull().sum())"
      ]
    },
    {
      "cell_type": "code",
      "execution_count": 3,
      "metadata": {
        "colab": {
          "base_uri": "https://localhost:8080/",
          "height": 206
        },
        "id": "xlVQkTB3tJx6",
        "outputId": "0dc38fd0-9444-409c-91bc-1065f9dca185"
      },
      "outputs": [
        {
          "data": {
            "text/html": [
              "<div>\n",
              "<style scoped>\n",
              "    .dataframe tbody tr th:only-of-type {\n",
              "        vertical-align: middle;\n",
              "    }\n",
              "\n",
              "    .dataframe tbody tr th {\n",
              "        vertical-align: top;\n",
              "    }\n",
              "\n",
              "    .dataframe thead th {\n",
              "        text-align: right;\n",
              "    }\n",
              "</style>\n",
              "<table border=\"1\" class=\"dataframe\">\n",
              "  <thead>\n",
              "    <tr style=\"text-align: right;\">\n",
              "      <th></th>\n",
              "      <th>age</th>\n",
              "      <th>gender</th>\n",
              "      <th>province</th>\n",
              "      <th>urban_rural</th>\n",
              "      <th>household_income</th>\n",
              "      <th>parent_education</th>\n",
              "      <th>attendance</th>\n",
              "      <th>highest_grade</th>\n",
              "      <th>dropout</th>\n",
              "    </tr>\n",
              "  </thead>\n",
              "  <tbody>\n",
              "    <tr>\n",
              "      <th>0</th>\n",
              "      <td>18</td>\n",
              "      <td>Male</td>\n",
              "      <td>North West</td>\n",
              "      <td>Urban</td>\n",
              "      <td>8931.49</td>\n",
              "      <td>Secondary</td>\n",
              "      <td>Yes</td>\n",
              "      <td>2</td>\n",
              "      <td>0</td>\n",
              "    </tr>\n",
              "    <tr>\n",
              "      <th>1</th>\n",
              "      <td>15</td>\n",
              "      <td>Female</td>\n",
              "      <td>Western Cape</td>\n",
              "      <td>Urban</td>\n",
              "      <td>-5000.00</td>\n",
              "      <td>Primary</td>\n",
              "      <td>Yes</td>\n",
              "      <td>9</td>\n",
              "      <td>0</td>\n",
              "    </tr>\n",
              "    <tr>\n",
              "      <th>2</th>\n",
              "      <td>5</td>\n",
              "      <td>Female</td>\n",
              "      <td>North West</td>\n",
              "      <td>Rural</td>\n",
              "      <td>4164.10</td>\n",
              "      <td>Secondary</td>\n",
              "      <td>Yes</td>\n",
              "      <td>8</td>\n",
              "      <td>0</td>\n",
              "    </tr>\n",
              "    <tr>\n",
              "      <th>3</th>\n",
              "      <td>18</td>\n",
              "      <td>Female</td>\n",
              "      <td>Northern Cape</td>\n",
              "      <td>Urban</td>\n",
              "      <td>11491.67</td>\n",
              "      <td>Primary</td>\n",
              "      <td>No</td>\n",
              "      <td>7</td>\n",
              "      <td>0</td>\n",
              "    </tr>\n",
              "    <tr>\n",
              "      <th>4</th>\n",
              "      <td>14</td>\n",
              "      <td>Female</td>\n",
              "      <td>Mpumalanga</td>\n",
              "      <td>Rural</td>\n",
              "      <td>13799.41</td>\n",
              "      <td>Secondary</td>\n",
              "      <td>Yes</td>\n",
              "      <td>2</td>\n",
              "      <td>0</td>\n",
              "    </tr>\n",
              "  </tbody>\n",
              "</table>\n",
              "</div>"
            ],
            "text/plain": [
              "   age  gender       province urban_rural  household_income parent_education  \\\n",
              "0   18    Male     North West       Urban           8931.49        Secondary   \n",
              "1   15  Female   Western Cape       Urban          -5000.00          Primary   \n",
              "2    5  Female     North West       Rural           4164.10        Secondary   \n",
              "3   18  Female  Northern Cape       Urban          11491.67          Primary   \n",
              "4   14  Female     Mpumalanga       Rural          13799.41        Secondary   \n",
              "\n",
              "  attendance  highest_grade  dropout  \n",
              "0        Yes              2        0  \n",
              "1        Yes              9        0  \n",
              "2        Yes              8        0  \n",
              "3         No              7        0  \n",
              "4        Yes              2        0  "
            ]
          },
          "execution_count": 3,
          "metadata": {},
          "output_type": "execute_result"
        }
      ],
      "source": [
        "df.head()"
      ]
    },
    {
      "cell_type": "code",
      "execution_count": null,
      "metadata": {},
      "outputs": [],
      "source": []
    }
  ],
  "metadata": {
    "colab": {
      "provenance": []
    },
    "kernelspec": {
      "display_name": ".venv",
      "language": "python",
      "name": "python3"
    },
    "language_info": {
      "codemirror_mode": {
        "name": "ipython",
        "version": 3
      },
      "file_extension": ".py",
      "mimetype": "text/x-python",
      "name": "python",
      "nbconvert_exporter": "python",
      "pygments_lexer": "ipython3",
      "version": "3.13.7"
    }
  },
  "nbformat": 4,
  "nbformat_minor": 0
}
